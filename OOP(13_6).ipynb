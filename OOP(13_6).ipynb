{
  "nbformat": 4,
  "nbformat_minor": 0,
  "metadata": {
    "colab": {
      "provenance": [],
      "authorship_tag": "ABX9TyNKGrPkAL8UuNU/MXlCWNXQ",
      "include_colab_link": true
    },
    "kernelspec": {
      "name": "python3",
      "display_name": "Python 3"
    },
    "language_info": {
      "name": "python"
    }
  },
  "cells": [
    {
      "cell_type": "markdown",
      "metadata": {
        "id": "view-in-github",
        "colab_type": "text"
      },
      "source": [
        "<a href=\"https://colab.research.google.com/github/Gurjotkaur007/TR-102-Daily-Diary/blob/main/OOP(13_6).ipynb\" target=\"_parent\"><img src=\"https://colab.research.google.com/assets/colab-badge.svg\" alt=\"Open In Colab\"/></a>"
      ]
    },
    {
      "cell_type": "code",
      "execution_count": 3,
      "metadata": {
        "colab": {
          "base_uri": "https://localhost:8080/"
        },
        "id": "7W1QoVkn6XsA",
        "outputId": "748751ba-70a4-4e78-d25a-609e92414ba2"
      },
      "outputs": [
        {
          "output_type": "stream",
          "name": "stdout",
          "text": [
            "this is default constructor.\n",
            "135933126693680\n",
            "<__main__.phone object at 0x7ba165bad330>\n"
          ]
        }
      ],
      "source": [
        "class phone:\n",
        "    def __init__(self):\n",
        "        print(\"this is default constructor.\")\n",
        "mob=phone()\n",
        "print(id(mob))\n",
        "print(mob)"
      ]
    },
    {
      "cell_type": "code",
      "source": [
        "class phone:\n",
        "    def __init__(self,name,price):\n",
        "        self.n=name\n",
        "        self.p=price\n",
        "        print(\"this is inside the default constructor.\")\n",
        "mob=phone(\"Xiomi\",50000)\n",
        "print(\"the model of phone is:\",mob.n,\"and the price is:\",mob.p)"
      ],
      "metadata": {
        "colab": {
          "base_uri": "https://localhost:8080/"
        },
        "id": "3G1RLBnq74-F",
        "outputId": "7f92a830-dbd9-4daa-87b0-bcf58ee9aab8"
      },
      "execution_count": 6,
      "outputs": [
        {
          "output_type": "stream",
          "name": "stdout",
          "text": [
            "this is inside the default constructor.\n",
            "the model of phone is: Xiomi and the price is: 50000\n"
          ]
        }
      ]
    },
    {
      "cell_type": "code",
      "source": [
        "from re import M\n",
        "class car:\n",
        "    def __init__(self,make,model,year):\n",
        "      self.make=make\n",
        "      self.model=model\n",
        "      self.year=year\n",
        "car_1=car(\"BMW\",\"X5\",2020)\n",
        "print(car_1.make,car_1.model,car_1.year)"
      ],
      "metadata": {
        "colab": {
          "base_uri": "https://localhost:8080/"
        },
        "id": "0yBLi1EU9R-U",
        "outputId": "edc11268-9934-4fed-8629-d82fd9723576"
      },
      "execution_count": 7,
      "outputs": [
        {
          "output_type": "stream",
          "name": "stdout",
          "text": [
            "BMW X5 2020\n"
          ]
        }
      ]
    },
    {
      "cell_type": "code",
      "source": [
        "class person:\n",
        "    def __init__(self,name,age):\n",
        "      self.name=name\n",
        "      self.age=age\n",
        "      print(\"Greetings!!\")\n",
        "P1=person(\"Ravi\",20)\n",
        "print(\"The name is \",P1.name,\"and the age is \",P1.age)"
      ],
      "metadata": {
        "colab": {
          "base_uri": "https://localhost:8080/"
        },
        "id": "ApbQSusq9zYO",
        "outputId": "19c47b58-fe1f-435b-d034-39f2d60414f3"
      },
      "execution_count": 8,
      "outputs": [
        {
          "output_type": "stream",
          "name": "stdout",
          "text": [
            "Greetings!!\n",
            "The name is  Ravi and the age is  20\n"
          ]
        }
      ]
    },
    {
      "cell_type": "code",
      "source": [
        "class rectangle:\n",
        "    def __init__(self,length,breadth):\n",
        "        self.length=length\n",
        "        self.breadth=breadth\n",
        "        area=length*breadth\n",
        "        print(\"The area is\",area)\n",
        "rec=rectangle(5,7)"
      ],
      "metadata": {
        "colab": {
          "base_uri": "https://localhost:8080/"
        },
        "id": "SXtKIqHMBZkB",
        "outputId": "5fc9ad95-fdb1-466c-a26b-ecb53c3a278a"
      },
      "execution_count": 18,
      "outputs": [
        {
          "output_type": "stream",
          "name": "stdout",
          "text": [
            "The area is 35\n"
          ]
        }
      ]
    },
    {
      "cell_type": "code",
      "source": [
        "class Student:\n",
        "    def __init__(self, name, lis):\n",
        "        self.name = name\n",
        "        self.lis = lis\n",
        "        average_grade=sum(lis)/len(lis)\n",
        "        print(\"The average grade is \",average_grade)\n",
        "stu=Student(\"Ravi\",[90,80,95,89,93])"
      ],
      "metadata": {
        "colab": {
          "base_uri": "https://localhost:8080/"
        },
        "id": "qjLDup7UAWdn",
        "outputId": "35b207d1-7401-4d71-acc2-c6ce87c29777"
      },
      "execution_count": 17,
      "outputs": [
        {
          "output_type": "stream",
          "name": "stdout",
          "text": [
            "The average grade is  89.4\n"
          ]
        }
      ]
    },
    {
      "cell_type": "code",
      "source": [
        "class Book:\n",
        "    def __init__(self,title,author,pages):\n",
        "        self.title=title\n",
        "        self.author=author\n",
        "        self.pages=pages\n",
        "        print(\"Details of Book:\\nTitle:\",title,\"\\nAuthor:\",author,\"\\nPages:\",pages)\n",
        "b1=Book(\"Wonders of Art\",\"Ravi Das\",550)\n",
        "b2=Book(\"Science\",\"HAns\",800)"
      ],
      "metadata": {
        "colab": {
          "base_uri": "https://localhost:8080/"
        },
        "id": "CKmNU-M6Bm3_",
        "outputId": "d7427795-06e5-413b-bb65-ee090694223e"
      },
      "execution_count": 25,
      "outputs": [
        {
          "output_type": "stream",
          "name": "stdout",
          "text": [
            "Details of Book:\n",
            "Title: Wonders of Art \n",
            "Author: Ravi Das \n",
            "Pages: 550\n",
            "Details of Book:\n",
            "Title: Science \n",
            "Author: HAns \n",
            "Pages: 800\n"
          ]
        }
      ]
    },
    {
      "cell_type": "markdown",
      "source": [
        "Define a Point class with attributes for x and y coordinates. Add a method to calculate the distance from another point. Create two objects and print the distance between them.\n"
      ],
      "metadata": {
        "id": "FdRDv5KUD1S3"
      }
    },
    {
      "cell_type": "code",
      "source": [
        "class Point:\n",
        "    def __init__(self,x,y):\n",
        "        self.x=x\n",
        "        self.y=y\n",
        "        distance=y**2+x**2\n",
        "        print(\"The distance is\",distance)\n",
        "obj1=Point(7,5)\n",
        "obj2=Point(8,2)"
      ],
      "metadata": {
        "colab": {
          "base_uri": "https://localhost:8080/"
        },
        "id": "Am8sQMc6DTwJ",
        "outputId": "14d578da-58c9-4e66-c694-14c2ca1eb597"
      },
      "execution_count": 26,
      "outputs": [
        {
          "output_type": "stream",
          "name": "stdout",
          "text": [
            "The distance is 74\n",
            "The distance is 68\n"
          ]
        }
      ]
    },
    {
      "cell_type": "markdown",
      "source": [
        " Create a method in the Person class which returns how another person's age compares. Given the objects p1, p2 and p3, which will be initialised with the attributes name and age, return a sentence in the following format:\n",
        "\n",
        "{other_person} is {older than / younger than / the same age as} me."
      ],
      "metadata": {
        "id": "3d296F8VFPFC"
      }
    },
    {
      "cell_type": "code",
      "source": [
        "class Employee:\n",
        "    def __init__(self,name,age,salary):\n",
        "        self.name=name\n",
        "        self.age=age\n",
        "        self.salary=salary\n",
        "        print(\"The name is\",name,\"and the age is\",age,\"and the salary is\",salary)"
      ],
      "metadata": {
        "id": "sDyv6NHbJzL-"
      },
      "execution_count": null,
      "outputs": []
    }
  ]
}